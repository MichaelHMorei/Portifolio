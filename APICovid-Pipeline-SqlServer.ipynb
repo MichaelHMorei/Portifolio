{
 "cells": [
  {
   "cell_type": "markdown",
   "id": "9eeceb91",
   "metadata": {
    "heading_collapsed": true
   },
   "source": [
    "# Objetivo\n",
    "\n",
    "Este simples pipeline foi desenvolvido para monitoramento dos casos de COVID atráves de uma API pública.\n",
    "Os dados são coletados e armazenados em um database para que posteriormente os dados sejam cosumidos em uma ferramenta de BI."
   ]
  },
  {
   "cell_type": "markdown",
   "id": "fa034fd8",
   "metadata": {},
   "source": [
    "# Fonte de dados\n",
    "Os dados sobre o COVID são totalmente tiradas da API publica > https://covid19-brazil-api.now.sh/api/report/v1"
   ]
  },
  {
   "cell_type": "markdown",
   "id": "f328713c",
   "metadata": {},
   "source": [
    "# Importando as bibliotecas"
   ]
  },
  {
   "cell_type": "code",
   "execution_count": 73,
   "id": "72418824",
   "metadata": {
    "ExecuteTime": {
     "end_time": "2022-05-11T23:11:21.286723Z",
     "start_time": "2022-05-11T23:11:21.268304Z"
    }
   },
   "outputs": [],
   "source": [
    "import requests as r\n",
    "import pandas as pd\n",
    "from datetime import datetime\n",
    "from pandasql import sqldf\n",
    "import pyodbc as odc"
   ]
  },
  {
   "cell_type": "markdown",
   "id": "10b662dd",
   "metadata": {},
   "source": [
    "# Variaveis Globais"
   ]
  },
  {
   "cell_type": "code",
   "execution_count": 74,
   "id": "3520c9be",
   "metadata": {
    "ExecuteTime": {
     "end_time": "2022-05-11T23:11:21.395134Z",
     "start_time": "2022-05-11T23:11:21.299711Z"
    }
   },
   "outputs": [],
   "source": [
    "STRING_CONEX_BANCO = 'DRIVER={SQL Server};''SERVER=DESKTOP-AF7BA3M;''DATABASE=CovidDB;'"
   ]
  },
  {
   "cell_type": "markdown",
   "id": "f803a3e1",
   "metadata": {},
   "source": [
    "# Requisitando os dados na API"
   ]
  },
  {
   "cell_type": "code",
   "execution_count": 75,
   "id": "6be9c030",
   "metadata": {
    "ExecuteTime": {
     "end_time": "2022-05-11T23:11:22.623309Z",
     "start_time": "2022-05-11T23:11:21.405062Z"
    }
   },
   "outputs": [],
   "source": [
    "url = 'https://covid19-brazil-api.now.sh/api/report/v1'\n",
    "df = r.request('GET',url)"
   ]
  },
  {
   "cell_type": "markdown",
   "id": "bacbe21b",
   "metadata": {},
   "source": [
    "# Convertendo o Json em um dataframe"
   ]
  },
  {
   "cell_type": "code",
   "execution_count": 76,
   "id": "6baf4de9",
   "metadata": {
    "ExecuteTime": {
     "end_time": "2022-05-11T23:11:22.700875Z",
     "start_time": "2022-05-11T23:11:22.643988Z"
    }
   },
   "outputs": [],
   "source": [
    "#Obtendo a data atual do sistema.\n",
    "data_atual = datetime.today().strftime('%Y-%m-%d')\n",
    "\n",
    "df1 = pd.DataFrame(df.json()['data'])\n",
    "\n",
    "#Transformando o campo datetime\n",
    "df1['datetime'] = pd.to_datetime(df1['datetime']).dt.strftime(\"%Y-%m-%d\")"
   ]
  },
  {
   "cell_type": "code",
   "execution_count": 77,
   "id": "123087fd",
   "metadata": {
    "ExecuteTime": {
     "end_time": "2022-05-11T23:11:22.810284Z",
     "start_time": "2022-05-11T23:11:22.720259Z"
    }
   },
   "outputs": [
    {
     "data": {
      "text/html": [
       "<div>\n",
       "<style scoped>\n",
       "    .dataframe tbody tr th:only-of-type {\n",
       "        vertical-align: middle;\n",
       "    }\n",
       "\n",
       "    .dataframe tbody tr th {\n",
       "        vertical-align: top;\n",
       "    }\n",
       "\n",
       "    .dataframe thead th {\n",
       "        text-align: right;\n",
       "    }\n",
       "</style>\n",
       "<table border=\"1\" class=\"dataframe\">\n",
       "  <thead>\n",
       "    <tr style=\"text-align: right;\">\n",
       "      <th></th>\n",
       "      <th>uid</th>\n",
       "      <th>uf</th>\n",
       "      <th>state</th>\n",
       "      <th>cases</th>\n",
       "      <th>deaths</th>\n",
       "      <th>suspects</th>\n",
       "      <th>refuses</th>\n",
       "      <th>datetime</th>\n",
       "    </tr>\n",
       "  </thead>\n",
       "  <tbody>\n",
       "    <tr>\n",
       "      <th>0</th>\n",
       "      <td>35</td>\n",
       "      <td>SP</td>\n",
       "      <td>São Paulo</td>\n",
       "      <td>5434438</td>\n",
       "      <td>168466</td>\n",
       "      <td>5334</td>\n",
       "      <td>596</td>\n",
       "      <td>2022-05-11</td>\n",
       "    </tr>\n",
       "    <tr>\n",
       "      <th>1</th>\n",
       "      <td>31</td>\n",
       "      <td>MG</td>\n",
       "      <td>Minas Gerais</td>\n",
       "      <td>3366689</td>\n",
       "      <td>61402</td>\n",
       "      <td>925</td>\n",
       "      <td>104</td>\n",
       "      <td>2022-05-11</td>\n",
       "    </tr>\n",
       "    <tr>\n",
       "      <th>2</th>\n",
       "      <td>41</td>\n",
       "      <td>PR</td>\n",
       "      <td>Paraná</td>\n",
       "      <td>2478462</td>\n",
       "      <td>43158</td>\n",
       "      <td>400</td>\n",
       "      <td>119</td>\n",
       "      <td>2022-05-11</td>\n",
       "    </tr>\n",
       "    <tr>\n",
       "      <th>3</th>\n",
       "      <td>43</td>\n",
       "      <td>RS</td>\n",
       "      <td>Rio Grande do Sul</td>\n",
       "      <td>2363227</td>\n",
       "      <td>39361</td>\n",
       "      <td>416</td>\n",
       "      <td>330</td>\n",
       "      <td>2022-05-11</td>\n",
       "    </tr>\n",
       "    <tr>\n",
       "      <th>4</th>\n",
       "      <td>33</td>\n",
       "      <td>RJ</td>\n",
       "      <td>Rio de Janeiro</td>\n",
       "      <td>2158019</td>\n",
       "      <td>73616</td>\n",
       "      <td>1254</td>\n",
       "      <td>148</td>\n",
       "      <td>2022-05-11</td>\n",
       "    </tr>\n",
       "  </tbody>\n",
       "</table>\n",
       "</div>"
      ],
      "text/plain": [
       "   uid  uf              state    cases  deaths  suspects  refuses    datetime\n",
       "0   35  SP          São Paulo  5434438  168466      5334      596  2022-05-11\n",
       "1   31  MG       Minas Gerais  3366689   61402       925      104  2022-05-11\n",
       "2   41  PR             Paraná  2478462   43158       400      119  2022-05-11\n",
       "3   43  RS  Rio Grande do Sul  2363227   39361       416      330  2022-05-11\n",
       "4   33  RJ     Rio de Janeiro  2158019   73616      1254      148  2022-05-11"
      ]
     },
     "execution_count": 77,
     "metadata": {},
     "output_type": "execute_result"
    }
   ],
   "source": [
    "#Visualizando as 5 primeiras linhas do dataframe\n",
    "df1.head()"
   ]
  },
  {
   "cell_type": "code",
   "execution_count": 78,
   "id": "ac0fb888",
   "metadata": {
    "ExecuteTime": {
     "end_time": "2022-05-11T23:11:22.903968Z",
     "start_time": "2022-05-11T23:11:22.820737Z"
    }
   },
   "outputs": [
    {
     "data": {
      "text/html": [
       "<div>\n",
       "<style scoped>\n",
       "    .dataframe tbody tr th:only-of-type {\n",
       "        vertical-align: middle;\n",
       "    }\n",
       "\n",
       "    .dataframe tbody tr th {\n",
       "        vertical-align: top;\n",
       "    }\n",
       "\n",
       "    .dataframe thead th {\n",
       "        text-align: right;\n",
       "    }\n",
       "</style>\n",
       "<table border=\"1\" class=\"dataframe\">\n",
       "  <thead>\n",
       "    <tr style=\"text-align: right;\">\n",
       "      <th></th>\n",
       "      <th>uid</th>\n",
       "      <th>uf</th>\n",
       "      <th>state</th>\n",
       "      <th>cases</th>\n",
       "      <th>deaths</th>\n",
       "      <th>suspects</th>\n",
       "      <th>refuses</th>\n",
       "      <th>datetime</th>\n",
       "    </tr>\n",
       "  </thead>\n",
       "  <tbody>\n",
       "    <tr>\n",
       "      <th>22</th>\n",
       "      <td>17</td>\n",
       "      <td>TO</td>\n",
       "      <td>Tocantins</td>\n",
       "      <td>304931</td>\n",
       "      <td>4156</td>\n",
       "      <td>13</td>\n",
       "      <td>0</td>\n",
       "      <td>2022-05-11</td>\n",
       "    </tr>\n",
       "    <tr>\n",
       "      <th>23</th>\n",
       "      <td>27</td>\n",
       "      <td>AL</td>\n",
       "      <td>Alagoas</td>\n",
       "      <td>298496</td>\n",
       "      <td>6935</td>\n",
       "      <td>43</td>\n",
       "      <td>22</td>\n",
       "      <td>2022-05-11</td>\n",
       "    </tr>\n",
       "    <tr>\n",
       "      <th>24</th>\n",
       "      <td>16</td>\n",
       "      <td>AP</td>\n",
       "      <td>Amapá</td>\n",
       "      <td>160401</td>\n",
       "      <td>2132</td>\n",
       "      <td>15</td>\n",
       "      <td>0</td>\n",
       "      <td>2022-05-11</td>\n",
       "    </tr>\n",
       "    <tr>\n",
       "      <th>25</th>\n",
       "      <td>14</td>\n",
       "      <td>RR</td>\n",
       "      <td>Roraima</td>\n",
       "      <td>155582</td>\n",
       "      <td>2151</td>\n",
       "      <td>9</td>\n",
       "      <td>0</td>\n",
       "      <td>2022-05-11</td>\n",
       "    </tr>\n",
       "    <tr>\n",
       "      <th>26</th>\n",
       "      <td>12</td>\n",
       "      <td>AC</td>\n",
       "      <td>Acre</td>\n",
       "      <td>124969</td>\n",
       "      <td>2002</td>\n",
       "      <td>12</td>\n",
       "      <td>0</td>\n",
       "      <td>2022-05-11</td>\n",
       "    </tr>\n",
       "  </tbody>\n",
       "</table>\n",
       "</div>"
      ],
      "text/plain": [
       "    uid  uf      state   cases  deaths  suspects  refuses    datetime\n",
       "22   17  TO  Tocantins  304931    4156        13        0  2022-05-11\n",
       "23   27  AL    Alagoas  298496    6935        43       22  2022-05-11\n",
       "24   16  AP      Amapá  160401    2132        15        0  2022-05-11\n",
       "25   14  RR    Roraima  155582    2151         9        0  2022-05-11\n",
       "26   12  AC       Acre  124969    2002        12        0  2022-05-11"
      ]
     },
     "execution_count": 78,
     "metadata": {},
     "output_type": "execute_result"
    }
   ],
   "source": [
    "#Visualizando as 5 ultimas linhas do DataFrame\n",
    "df1.tail()"
   ]
  },
  {
   "cell_type": "code",
   "execution_count": 79,
   "id": "cfd33635",
   "metadata": {
    "ExecuteTime": {
     "end_time": "2022-05-11T23:11:22.981008Z",
     "start_time": "2022-05-11T23:11:22.916738Z"
    }
   },
   "outputs": [
    {
     "name": "stdout",
     "output_type": "stream",
     "text": [
      " --> Dados API\n"
     ]
    },
    {
     "data": {
      "text/plain": [
       "uid         0\n",
       "uf          0\n",
       "state       0\n",
       "cases       0\n",
       "deaths      0\n",
       "suspects    0\n",
       "refuses     0\n",
       "datetime    0\n",
       "dtype: int64"
      ]
     },
     "metadata": {},
     "output_type": "display_data"
    }
   ],
   "source": [
    "# Verificando se temos dados ausentes no dataframe.\n",
    "print(\" --> Dados API\")\n",
    "display(df1.isnull().sum())"
   ]
  },
  {
   "cell_type": "markdown",
   "id": "5f607275",
   "metadata": {},
   "source": [
    "# Select no bando de dados SqlServer\n",
    "\n",
    "O retorno do select será usado em uma função de validação."
   ]
  },
  {
   "cell_type": "code",
   "execution_count": 80,
   "id": "067eb806",
   "metadata": {
    "ExecuteTime": {
     "end_time": "2022-05-11T23:11:23.027886Z",
     "start_time": "2022-05-11T23:11:22.990783Z"
    }
   },
   "outputs": [],
   "source": [
    "def SelectBanco (STRING_CONEX_BANCO):\n",
    "    \n",
    "    cnxn = odc.connect(STRING_CONEX_BANCO)\n",
    "    query = \"\"\"SELECT * FROM Tb_Covid1\"\"\"\n",
    "    \n",
    "    #Passando o retorno da consulta para um dataframe = 'resultado'\n",
    "    resultado = pd.read_sql(query, cnxn)\n",
    "    \n",
    "    return resultado"
   ]
  },
  {
   "cell_type": "markdown",
   "id": "03efcb79",
   "metadata": {},
   "source": [
    "# Função de validação e chamada da função  GravarNoBanco()"
   ]
  },
  {
   "cell_type": "code",
   "execution_count": 95,
   "id": "4fdd73b1",
   "metadata": {
    "ExecuteTime": {
     "end_time": "2022-05-11T23:29:46.309676Z",
     "start_time": "2022-05-11T23:29:46.272863Z"
    }
   },
   "outputs": [],
   "source": [
    "def IncrementoBanco (query,data_atual,df1,STRING_CONEX_BANCO):\n",
    "    df0 = pd.DataFrame(query)\n",
    "    \n",
    "    try:\n",
    "        if (df1['datetime'].max() != df0['datetime'].max()) :\n",
    "            GravarNoBanco(df1,STRING_CONEX_BANCO) \n",
    "            print(\"Os dados foram inseridos no banco. Qty de rows\", df1.shape)\n",
    "        else: \n",
    "            print(\"Já existem dados no banco com a data -->\", df1['datetime'][0])\n",
    "    except:\n",
    "        print(\"ALERTA --> Não foi possivel inserir os dados no banco <-- \")\n",
    "        "
   ]
  },
  {
   "cell_type": "markdown",
   "id": "c9cc8f59",
   "metadata": {},
   "source": [
    "# Função de incremento no Banco de Dados"
   ]
  },
  {
   "cell_type": "code",
   "execution_count": 93,
   "id": "ec0d7086",
   "metadata": {
    "ExecuteTime": {
     "end_time": "2022-05-11T23:29:28.761962Z",
     "start_time": "2022-05-11T23:29:28.716529Z"
    }
   },
   "outputs": [],
   "source": [
    "def GravarNoBanco(df,STRING_CONEX_BANCO):\n",
    "\n",
    "        cnxn = odc.connect(STRING_CONEX_BANCO)\n",
    "        cursor = cnxn.cursor()\n",
    "\n",
    "        for index , linha in df.iterrows():\n",
    "            cursor.execute(\"insert into Tb_Covid1(uid, uf, state,cases,deaths,suspects,refuses,datetime) values (?,?,?,?,?,?,?,?)\",linha.uid,linha.uf,linha.state,linha.cases,linha.deaths,linha.suspects,linha.refuses,linha.datetime)\n",
    "            cursor.commit()"
   ]
  },
  {
   "cell_type": "markdown",
   "id": "aa2de343",
   "metadata": {},
   "source": [
    "# Instancioando as funçoes"
   ]
  },
  {
   "cell_type": "code",
   "execution_count": 94,
   "id": "760d78f9",
   "metadata": {
    "ExecuteTime": {
     "end_time": "2022-05-11T23:29:39.146426Z",
     "start_time": "2022-05-11T23:29:34.959077Z"
    }
   },
   "outputs": [
    {
     "name": "stdout",
     "output_type": "stream",
     "text": [
      "Já existem dados no banco com a data --> 2022-05-11 (27, 8)\n"
     ]
    }
   ],
   "source": [
    "# Query no banco de dados com o objetivo de verificar o registro com a maior data.\n",
    "query = SelectBanco(STRING_CONEX_BANCO)\n",
    "\n",
    "#Incrementando os dados no banco\n",
    "IncrementoBanco(query,data_atual,df1,STRING_CONEX_BANCO)"
   ]
  },
  {
   "cell_type": "markdown",
   "id": "9d228b2a",
   "metadata": {},
   "source": [
    "# Consultando o banco para verificar os valores inseridos."
   ]
  },
  {
   "cell_type": "code",
   "execution_count": 97,
   "id": "24b71354",
   "metadata": {
    "ExecuteTime": {
     "end_time": "2022-05-11T23:30:45.607714Z",
     "start_time": "2022-05-11T23:30:45.542517Z"
    }
   },
   "outputs": [
    {
     "data": {
      "text/plain": [
       "'2022-05-11'"
      ]
     },
     "execution_count": 97,
     "metadata": {},
     "output_type": "execute_result"
    }
   ],
   "source": [
    "query = SelectBanco(STRING_CONEX_BANCO)\n",
    "query.head(50)\n",
    "query['datetime'].max()"
   ]
  }
 ],
 "metadata": {
  "hide_input": false,
  "kernelspec": {
   "display_name": "Python 3 (ipykernel)",
   "language": "python",
   "name": "python3"
  },
  "language_info": {
   "codemirror_mode": {
    "name": "ipython",
    "version": 3
   },
   "file_extension": ".py",
   "mimetype": "text/x-python",
   "name": "python",
   "nbconvert_exporter": "python",
   "pygments_lexer": "ipython3",
   "version": "3.9.7"
  }
 },
 "nbformat": 4,
 "nbformat_minor": 5
}
