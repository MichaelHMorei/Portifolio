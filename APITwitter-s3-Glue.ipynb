{
 "cells": [
  {
   "cell_type": "markdown",
   "id": "47a55c7c",
   "metadata": {},
   "source": [
    "# Coleta de Twitter utilizando a API do Twitter + AWS S3 e GLUE\n",
    "  * Este projeto visa coletar tweets de um determinado assunto e posteriormente gravar estes dados no S3 para serem processadas utilizando o AWS Glue.\n",
    "   * Para este projeto foi utilizado como assunto o'que estão dizendo dos candidatos presidenciáveis #Bolsonaro e #Lula\n"
   ]
  },
  {
   "cell_type": "code",
   "execution_count": 175,
   "id": "ff45f4aa",
   "metadata": {
    "ExecuteTime": {
     "end_time": "2022-06-16T18:49:40.381405Z",
     "start_time": "2022-06-16T18:49:40.349230Z"
    }
   },
   "outputs": [],
   "source": [
    "# Importação da biblioteca usadas no projeto\n",
    "\n",
    "import tweepy\n",
    "import pandas as pd\n",
    "import json\n",
    "import boto3\n",
    "import boto\n",
    "import boto.s3.connection\n",
    "from datetime import datetime\n",
    "from io import StringIO"
   ]
  },
  {
   "cell_type": "markdown",
   "id": "8ca262dd",
   "metadata": {},
   "source": [
    "# Iniciando o Pipeline TW"
   ]
  },
  {
   "cell_type": "code",
   "execution_count": 176,
   "id": "96a43703",
   "metadata": {
    "ExecuteTime": {
     "end_time": "2022-06-16T18:49:40.535789Z",
     "start_time": "2022-06-16T18:49:40.394304Z"
    }
   },
   "outputs": [
    {
     "name": "stdout",
     "output_type": "stream",
     "text": [
      "### Processamento iniciado: 2022/06/16 as 15:49:40 ###\n"
     ]
    }
   ],
   "source": [
    "#Horario de processamento\n",
    "\n",
    "data_now = datetime.now()\n",
    "data = data_now.strftime(\"%Y/%m/%d\")\n",
    "hora = data_now.strftime(\"%H:%M:%S\")\n",
    "print('### Processamento iniciado: '+data+' as '+hora+' ###')"
   ]
  },
  {
   "cell_type": "markdown",
   "id": "8a71a337",
   "metadata": {},
   "source": [
    "# Lendo os arquivo TXT conteando as Keys Twitter + S3"
   ]
  },
  {
   "cell_type": "code",
   "execution_count": 177,
   "id": "26aec029",
   "metadata": {
    "ExecuteTime": {
     "end_time": "2022-06-16T18:49:45.873613Z",
     "start_time": "2022-06-16T18:49:40.547814Z"
    }
   },
   "outputs": [],
   "source": [
    "#Lendo as chaves de acesso Twitter\n",
    "with open(\"keysTwi.txt\",'r') as linhas:\n",
    "    API_key= linhas.readline().strip('\\n')\n",
    "    API_secret_Key= linhas.readline().strip('\\n')\n",
    "    access_token= linhas.readline().strip('\\n')\n",
    "    access_token_secret= linhas.readline().strip('\\n')\n",
    "\n",
    "\n",
    "#Lendo as chaves de acesso S3\n",
    "with open(\"keysS3.txt\",'r') as linhas:\n",
    "    aws_access_key_id= linhas.readline().strip('\\n')\n",
    "    API_secret_access_Key= linhas.readline().strip('\\n')"
   ]
  },
  {
   "cell_type": "markdown",
   "id": "62252a49",
   "metadata": {
    "ExecuteTime": {
     "end_time": "2022-06-12T12:00:40.299308Z",
     "start_time": "2022-06-12T12:00:40.284363Z"
    }
   },
   "source": [
    "# Autenticação no Twitter"
   ]
  },
  {
   "cell_type": "code",
   "execution_count": 178,
   "id": "0c28eac2",
   "metadata": {
    "ExecuteTime": {
     "end_time": "2022-06-16T18:49:46.651802Z",
     "start_time": "2022-06-16T18:49:45.892243Z"
    }
   },
   "outputs": [
    {
     "name": "stdout",
     "output_type": "stream",
     "text": [
      "### Autenticação no TW realizada com sucesso ###\n"
     ]
    }
   ],
   "source": [
    "#Realizando a autenticação no Twitter\n",
    "auth = tweepy.OAuth1UserHandler(API_key,API_secret_Key)\n",
    "auth.set_access_token(access_token,access_token_secret)\n",
    "\n",
    "try :\n",
    "    api = tweepy.API(auth)\n",
    "    #Testando a conexão\n",
    "    public_tw = api.home_timeline()\n",
    "    print(\"### Autenticação no TW realizada com sucesso ###\")\n",
    "    \n",
    "except: \n",
    "    print(\"### Não foi possivel fazer a autenticação no TW ###\")"
   ]
  },
  {
   "cell_type": "markdown",
   "id": "6ed33cea",
   "metadata": {},
   "source": [
    "# Autenticação S3"
   ]
  },
  {
   "cell_type": "code",
   "execution_count": 179,
   "id": "4cef459d",
   "metadata": {
    "ExecuteTime": {
     "end_time": "2022-06-16T18:49:46.699652Z",
     "start_time": "2022-06-16T18:49:46.664330Z"
    }
   },
   "outputs": [
    {
     "name": "stdout",
     "output_type": "stream",
     "text": [
      "### Autenticação no S3 realizada com sucesso ###\n"
     ]
    }
   ],
   "source": [
    "# Criando conexão com o S3\n",
    "try:\n",
    "    conn = boto.connect_s3( aws_access_key_id,API_secret_access_Key)\n",
    "    print(\"### Autenticação no S3 realizada com sucesso ###\")\n",
    "except:\n",
    "    print(\"### Não foi possivel fazer a autenticação no S3 ###\")"
   ]
  },
  {
   "cell_type": "markdown",
   "id": "c52ce406",
   "metadata": {},
   "source": [
    "# Coleta dados do Twitter"
   ]
  },
  {
   "cell_type": "code",
   "execution_count": 180,
   "id": "eb5b6ade",
   "metadata": {
    "ExecuteTime": {
     "end_time": "2022-06-16T18:49:46.901611Z",
     "start_time": "2022-06-16T18:49:46.720794Z"
    }
   },
   "outputs": [],
   "source": [
    "#Criando a string(query) de pesquisa filtando somente novos tweets\n",
    "\n",
    "search_query = \"#Lula OR Bolsonaro\" + \" -filter:retweets\""
   ]
  },
  {
   "cell_type": "code",
   "execution_count": 181,
   "id": "0e83e3b9",
   "metadata": {
    "ExecuteTime": {
     "end_time": "2022-06-16T18:49:46.995588Z",
     "start_time": "2022-06-16T18:49:46.923126Z"
    }
   },
   "outputs": [],
   "source": [
    "# Criando listas de armazenamento dos TW\n",
    " \n",
    "tweets = []\n",
    "info = []"
   ]
  },
  {
   "cell_type": "code",
   "execution_count": 182,
   "id": "773ce0eb",
   "metadata": {
    "ExecuteTime": {
     "end_time": "2022-06-16T18:49:52.440463Z",
     "start_time": "2022-06-16T18:49:47.015114Z"
    }
   },
   "outputs": [],
   "source": [
    "data_now = datetime.now()\n",
    "data = data_now.strftime(\"%Y-%m-%d\")\n",
    "hora = data_now.strftime(\"%H:%M:%S\")\n",
    "\n",
    "try:\n",
    "    #Criando lista de tweets\n",
    "    for tweet in tweepy.Cursor(api.search_tweets,\n",
    "                               q=search_query,\n",
    "                               tweet_mode='extended',\n",
    "                               lang='pt').items(100):\n",
    "        \n",
    "    #Lendo a lista de tweets obtidos\n",
    "        if 'retweeted_status' in dir (tweet):\n",
    "               aux = tweet.retweeted_status.full_text\n",
    "        else:\n",
    "                aux = tweet.full_text\n",
    "        newtweet = aux.replace(\"\\n\", \"\")\n",
    "        \n",
    "        #Gravando apenas o text dos tweet\n",
    "        tweets.append(newtweet)\n",
    "\n",
    "        #Gravando todos os dados do tweet\n",
    "        info.append(tweet)\n",
    "\n",
    "        #Criando dataframe com os twetts\n",
    "    df_tw = pd.DataFrame(tweets,columns=['twitter'])\n",
    "    df_tw['twitter'] = df_tw['twitter'].astype(str)\n",
    "\n",
    "    #Salvando csv com os twitter\n",
    "    #df_tw.to_csv(\"twitterAPI-\"+data+\"-\"+hora, \"utf-8\")\n",
    "\n",
    "except :\n",
    "    print(\"### Não foi possivel obter a lista de TW ###\")\n",
    "    "
   ]
  },
  {
   "cell_type": "markdown",
   "id": "940d6e6f",
   "metadata": {},
   "source": [
    "# Gravando o arquivo com os Twittes no S3"
   ]
  },
  {
   "cell_type": "code",
   "execution_count": 183,
   "id": "e92cedd7",
   "metadata": {
    "ExecuteTime": {
     "end_time": "2022-06-16T18:49:52.502935Z",
     "start_time": "2022-06-16T18:49:52.451935Z"
    }
   },
   "outputs": [],
   "source": [
    "#Lendo os objetos do bucket\n",
    "#Esta função sera usada para verificar se já existe arquivo salvo com o mesmo nome, se tiver não faz uma nova insrção.\n",
    "\n",
    "def readbuckets3(aws_access_key_id,aws_secret_access_key):\n",
    "    #Criando sessão no S3\n",
    "    session = boto3.Session( \n",
    "             aws_access_key_id=aws_access_key_id, \n",
    "             aws_secret_access_key=API_secret_access_Key)\n",
    "\n",
    "    #Usando a sessão criada para ler os objetos no bucket\n",
    "    s3 = session.resource('s3')\n",
    "\n",
    "    #Nome do bucket que vai ser verificado os objetos\n",
    "    my_bucket = s3.Bucket('twitter-datalake-raw')\n",
    "\n",
    "    #Listando os objetos e passando para a lista = objetosBucket\n",
    "    objetosBucket = []\n",
    "    \n",
    "    for my_bucket_object in my_bucket.objects.all():\n",
    "        objetosBucket.append(my_bucket_object.key)\n",
    "        #print(\"Objetos no bucket :\" ,my_bucket_object.key)\n",
    "        \n",
    "    return objetosBucket"
   ]
  },
  {
   "cell_type": "code",
   "execution_count": 184,
   "id": "6b1dba86",
   "metadata": {
    "ExecuteTime": {
     "end_time": "2022-06-16T18:49:55.426582Z",
     "start_time": "2022-06-16T18:49:52.534387Z"
    }
   },
   "outputs": [
    {
     "name": "stdout",
     "output_type": "stream",
     "text": [
      "O arquivo >File-2022-06-16.csv< já foi gravado no S3\n"
     ]
    }
   ],
   "source": [
    "#Gravando arquivo no S3\n",
    "\n",
    "#Contando numero de linhas do dataframe\n",
    "for cont in df_tw.count():\n",
    "    contadorRows = cont\n",
    "\n",
    "#Obtendo a data data do processamento\n",
    "dataFile = datetime.today().strftime('%Y-%m-%d')\n",
    "hora = datetime.today().strftime(\"%H:%M:%S\")\n",
    "\n",
    "#Definindo o nome do novo arquivo \n",
    "novoArquivo = 'File-'+dataFile+'.csv'\n",
    "\n",
    "#Instanciando a função\n",
    "objetosBucket = readbuckets3(aws_access_key_id,API_secret_access_Key)\n",
    "\n",
    "if contadorRows > 0 :\n",
    "    \n",
    "    #Verificando se já existe objeto gravado com o mesma data+nome\n",
    "    for objetos in objetosBucket:\n",
    "        if objetos == novoArquivo:\n",
    "            contador = True\n",
    "        else:\n",
    "             contador = False \n",
    "                \n",
    "        #Inserindo o arquivo no S3\n",
    "    if contador == False:\n",
    "            #Criando a conexão com o S3\n",
    "            s3 = boto3.client('s3', aws_access_key_id=aws_access_key_id,\n",
    "                                    aws_secret_access_key = API_secret_access_Key)\n",
    "            #Gravando o arquivo no S3\n",
    "            csv_buf = StringIO()\n",
    "            df_tw.to_csv(csv_buf, header=True , index=False)\n",
    "            csv_buf.seek(0)\n",
    "            s3.put_object(Bucket='twitter-datalake-raw', Body=csv_buf.getvalue(), Key='File-'+dataFile+'.csv')\n",
    "            print(\"O arquivo >\" + novoArquivo +\"< foi gravado com sucesso no S3\")         \n",
    "    else:\n",
    "            print(\"O arquivo >\" + novoArquivo +\"< já foi gravado no S3\")\n",
    "else:\n",
    "    print(\"Nenhum registro disponivel para gravação no S3\")"
   ]
  },
  {
   "cell_type": "code",
   "execution_count": 185,
   "id": "a7977618",
   "metadata": {
    "ExecuteTime": {
     "end_time": "2022-06-16T18:49:55.475540Z",
     "start_time": "2022-06-16T18:49:55.439371Z"
    }
   },
   "outputs": [
    {
     "name": "stdout",
     "output_type": "stream",
     "text": [
      "File-2022-06-12.csv\n",
      "File-2022-06-14.csv\n",
      "File-2022-06-16.csv\n"
     ]
    }
   ],
   "source": [
    "#Listando os arquivos existentes no bucket\n",
    "\n",
    "for objetos in objetosBucket:\n",
    "        print(objetos)"
   ]
  },
  {
   "cell_type": "code",
   "execution_count": 186,
   "id": "befdd57d",
   "metadata": {
    "ExecuteTime": {
     "end_time": "2022-06-16T18:49:55.707897Z",
     "start_time": "2022-06-16T18:49:55.493163Z"
    }
   },
   "outputs": [
    {
     "name": "stdout",
     "output_type": "stream",
     "text": [
      "### Processamento finalizado: 2022/06/16 as 15:49:55 ###\n"
     ]
    }
   ],
   "source": [
    "# Fim do processamento\n",
    "#Horario de processamento\n",
    "\n",
    "data_now = datetime.now()\n",
    "data = data_now.strftime(\"%Y/%m/%d\")\n",
    "hora = data_now.strftime(\"%H:%M:%S\")\n",
    "print('### Processamento finalizado: '+data+' as '+hora+' ###')"
   ]
  }
 ],
 "metadata": {
  "hide_input": false,
  "kernelspec": {
   "display_name": "Python 3 (ipykernel)",
   "language": "python",
   "name": "python3"
  },
  "language_info": {
   "codemirror_mode": {
    "name": "ipython",
    "version": 3
   },
   "file_extension": ".py",
   "mimetype": "text/x-python",
   "name": "python",
   "nbconvert_exporter": "python",
   "pygments_lexer": "ipython3",
   "version": "3.9.7"
  }
 },
 "nbformat": 4,
 "nbformat_minor": 5
}
