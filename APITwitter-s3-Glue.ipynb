{
 "cells": [
  {
   "cell_type": "markdown",
   "id": "e8596424",
   "metadata": {},
   "source": [
    "# Coleta de Twitter ultilixando a API do Twitter\n",
    "   * Este projeto visa coletar twitts de um determinado assunto e posteriormente gravar estes dados no S3 para serem processadas utilizando o AWS Glue.\n",
    "   * Para este projeto foi utilizado como assunto o'que estão dizendo dos candidatos presidenciáveis #Bolsonaro e #Lula"
   ]
  },
  {
   "cell_type": "code",
   "execution_count": 92,
   "id": "d5bf4c08",
   "metadata": {
    "ExecuteTime": {
     "end_time": "2022-06-14T12:29:13.996298Z",
     "start_time": "2022-06-14T12:29:13.970090Z"
    }
   },
   "outputs": [],
   "source": [
    "# Importação da biblioteca usadas no projeto\n",
    "\n",
    "import tweepy\n",
    "import pandas as pd\n",
    "import json\n",
    "import boto3\n",
    "import boto\n",
    "import boto.s3.connection\n",
    "from datetime import datetime\n",
    "from io import StringIO"
   ]
  },
  {
   "cell_type": "markdown",
   "id": "e27b57e5",
   "metadata": {},
   "source": [
    "# Iniciando o Pipeline TW"
   ]
  },
  {
   "cell_type": "code",
   "execution_count": 93,
   "id": "b453259f",
   "metadata": {
    "ExecuteTime": {
     "end_time": "2022-06-14T12:29:17.878666Z",
     "start_time": "2022-06-14T12:29:17.839045Z"
    }
   },
   "outputs": [
    {
     "name": "stdout",
     "output_type": "stream",
     "text": [
      "### Processamento iniciado: 2022/06/14 as 09:29:17 ###\n"
     ]
    }
   ],
   "source": [
    "#Horario de processamento\n",
    "\n",
    "data_now = datetime.now()\n",
    "data = data_now.strftime(\"%Y/%m/%d\")\n",
    "hora = data_now.strftime(\"%H:%M:%S\")\n",
    "print('### Processamento iniciado: '+data+' as '+hora+' ###')"
   ]
  },
  {
   "cell_type": "markdown",
   "id": "b3ffed68",
   "metadata": {},
   "source": [
    "# Lendo os arquivo TXT conteando as Keys Twitter + S3"
   ]
  },
  {
   "cell_type": "code",
   "execution_count": 103,
   "id": "b889f2ca",
   "metadata": {
    "ExecuteTime": {
     "end_time": "2022-06-14T12:33:03.690615Z",
     "start_time": "2022-06-14T12:33:03.652400Z"
    }
   },
   "outputs": [],
   "source": [
    "#Lendo as chaves de acesso Twitter\n",
    "with open(\"keysTwi.txt\",'r') as linhas:\n",
    "    API_key= linhas.readline().strip('\\n')\n",
    "    API_secret_Key= linhas.readline().strip('\\n')\n",
    "    access_token= linhas.readline().strip('\\n')\n",
    "    access_token_secret= linhas.readline().strip('\\n')\n",
    "\n",
    "\n",
    "#Lendo as chaves de acesso S3\n",
    "with open(\"keysS3.txt\",'r') as linhas:\n",
    "    aws_access_key_id= linhas.readline().strip('\\n')\n",
    "    API_secret_access_Key= linhas.readline().strip('\\n')"
   ]
  },
  {
   "cell_type": "markdown",
   "id": "ee98cdc9",
   "metadata": {
    "ExecuteTime": {
     "end_time": "2022-06-12T12:00:40.299308Z",
     "start_time": "2022-06-12T12:00:40.284363Z"
    }
   },
   "source": [
    "# Autenticação no Twitter"
   ]
  },
  {
   "cell_type": "code",
   "execution_count": 104,
   "id": "e6480d16",
   "metadata": {
    "ExecuteTime": {
     "end_time": "2022-06-14T12:33:06.797666Z",
     "start_time": "2022-06-14T12:33:06.042836Z"
    }
   },
   "outputs": [
    {
     "name": "stdout",
     "output_type": "stream",
     "text": [
      "### Autenticação no TW realizada com sucesso ###\n"
     ]
    }
   ],
   "source": [
    "#Realizando a autenticação no Twitter\n",
    "auth = tweepy.OAuth1UserHandler(API_key,API_secret_Key)\n",
    "auth.set_access_token(access_token,access_token_secret)\n",
    "\n",
    "try :\n",
    "    api = tweepy.API(auth)\n",
    "    #Testando a conexão\n",
    "    public_tw = api.home_timeline()\n",
    "    print(\"### Autenticação no TW realizada com sucesso ###\")\n",
    "    \n",
    "except: \n",
    "    print(\"### Não foi possivel fazer a autenticação no TW ###\")"
   ]
  },
  {
   "cell_type": "markdown",
   "id": "a7e524c7",
   "metadata": {},
   "source": [
    "# Autenticação S3"
   ]
  },
  {
   "cell_type": "code",
   "execution_count": 96,
   "id": "15a823ad",
   "metadata": {
    "ExecuteTime": {
     "end_time": "2022-06-14T12:29:37.636464Z",
     "start_time": "2022-06-14T12:29:37.597215Z"
    }
   },
   "outputs": [
    {
     "name": "stdout",
     "output_type": "stream",
     "text": [
      "### Autenticação no S3 realizada com sucesso ###\n"
     ]
    }
   ],
   "source": [
    "# Criando conexão com o S3\n",
    "try:\n",
    "    conn = boto.connect_s3( aws_access_key_id,API_secret_access_Key)\n",
    "    print(\"### Autenticação no S3 realizada com sucesso ###\")\n",
    "except:\n",
    "    print(\"### Não foi possivel fazer a autenticação no S3 ###\")"
   ]
  },
  {
   "cell_type": "markdown",
   "id": "cf7c3cb5",
   "metadata": {},
   "source": [
    "# Coleta dados do Twitter"
   ]
  },
  {
   "cell_type": "code",
   "execution_count": 97,
   "id": "b6342f52",
   "metadata": {
    "ExecuteTime": {
     "end_time": "2022-06-14T12:29:42.158863Z",
     "start_time": "2022-06-14T12:29:42.139051Z"
    }
   },
   "outputs": [],
   "source": [
    "#Criando a string(query) de pesquisa filtando somente novos tweets\n",
    "\n",
    "search_query = \"#Lula OR Bolsonaro\" + \" -filter:retweets\""
   ]
  },
  {
   "cell_type": "code",
   "execution_count": 98,
   "id": "1ce141d6",
   "metadata": {
    "ExecuteTime": {
     "end_time": "2022-06-14T12:29:49.542926Z",
     "start_time": "2022-06-14T12:29:49.409906Z"
    }
   },
   "outputs": [],
   "source": [
    "# Criando listas de armazenamento dos TW\n",
    " \n",
    "tweets = []\n",
    "info = []"
   ]
  },
  {
   "cell_type": "code",
   "execution_count": 116,
   "id": "e61169ec",
   "metadata": {
    "ExecuteTime": {
     "end_time": "2022-06-14T12:39:28.026271Z",
     "start_time": "2022-06-14T12:39:23.724798Z"
    }
   },
   "outputs": [],
   "source": [
    "data_now = datetime.now()\n",
    "data = data_now.strftime(\"%Y-%m-%d\")\n",
    "hora = data_now.strftime(\"%H:%M:%S\")\n",
    "\n",
    "try:\n",
    "    #Criando lista de tweets\n",
    "    for tweet in tweepy.Cursor(api.search_tweets,\n",
    "                               q=search_query,\n",
    "                               tweet_mode='extended',\n",
    "                               lang='pt').items(100):\n",
    "        \n",
    "    #Lendo a lista de tweets obtidos\n",
    "        if 'retweeted_status' in dir (tweet):\n",
    "               aux = tweet.retweeted_status.full_text\n",
    "        else:\n",
    "                aux = tweet.full_text\n",
    "        newtweet = aux.replace(\"\\n\", \"\")\n",
    "        \n",
    "        #Gravando apenas o text dos tweet\n",
    "        tweets.append(newtweet)\n",
    "\n",
    "        #Gravando todos os dados do tweet\n",
    "        info.append(tweet)\n",
    "\n",
    "        #Criando dataframe com os twetts\n",
    "    df_tw = pd.DataFrame(tweets,columns=['twitter'])\n",
    "    df_tw['twitter'] = df_tw['twitter'].astype(str)\n",
    "\n",
    "    #Salvando csv com os twitter\n",
    "    #df_tw.to_csv(\"twitterAPI-\"+data+\"-\"+hora, \"utf-8\")\n",
    "\n",
    "except :\n",
    "    print(\"### Não foi possivel obter a lista de TW ###\")\n",
    "    "
   ]
  },
  {
   "cell_type": "markdown",
   "id": "03c98c3e",
   "metadata": {},
   "source": [
    "# Gravando o arquivo com os Twittes no S3"
   ]
  },
  {
   "cell_type": "code",
   "execution_count": 117,
   "id": "7b4041d8",
   "metadata": {
    "ExecuteTime": {
     "end_time": "2022-06-14T12:39:31.967439Z",
     "start_time": "2022-06-14T12:39:31.924430Z"
    }
   },
   "outputs": [],
   "source": [
    "#Lendo os objetos do bucket\n",
    "#Esta função sera usada para verificar se já existe arquivo salvo com o mesmo nome, se tiver não faz uma nova insrção.\n",
    "\n",
    "def readbuckets3(aws_access_key_id,aws_secret_access_key):\n",
    "    #Criando sessão no S3\n",
    "    session = boto3.Session( \n",
    "             aws_access_key_id=aws_access_key_id, \n",
    "             aws_secret_access_key=API_secret_access_Key)\n",
    "\n",
    "    #Usando a sessão criada para ler os objetos no bucket\n",
    "    s3 = session.resource('s3')\n",
    "\n",
    "    #Nome do bucket que vai ser verificado os objetos\n",
    "    my_bucket = s3.Bucket('twitter-datalake-raw')\n",
    "\n",
    "    #Listando os objetos e passando para a lista = objetosBucket\n",
    "    objetosBucket = []\n",
    "    \n",
    "    for my_bucket_object in my_bucket.objects.all():\n",
    "        objetosBucket.append(my_bucket_object.key)\n",
    "        #print(\"Objetos no bucket :\" ,my_bucket_object.key)\n",
    "        \n",
    "    return objetosBucket"
   ]
  },
  {
   "cell_type": "code",
   "execution_count": 166,
   "id": "b7fd4a68",
   "metadata": {
    "ExecuteTime": {
     "end_time": "2022-06-14T13:51:54.440525Z",
     "start_time": "2022-06-14T13:51:50.732677Z"
    }
   },
   "outputs": [
    {
     "name": "stdout",
     "output_type": "stream",
     "text": [
      "File-2022-06-12.csv\n",
      "O arquivo >File-2022-06-14.csv< foi gravado com sucesso no S3\n"
     ]
    }
   ],
   "source": [
    "#Gravando arquivo no S3\n",
    "\n",
    "#Contando numero de linhas do dataframe\n",
    "for cont in df_tw.count():\n",
    "    contadorRows= cont\n",
    "\n",
    "#Obtendo a data data do processamento\n",
    "dataFile = datetime.today().strftime('%Y-%m-%d')\n",
    "hora = datetime.today().strftime(\"%H:%M:%S\")\n",
    "\n",
    "#Definindo o nome do novo arquivo \n",
    "novoArquivo = 'File-'+dataFile+'.csv'\n",
    "\n",
    "#Instanciando a função\n",
    "objetosBucket = readbuckets3(aws_access_key_id,API_secret_access_Key)\n",
    "\n",
    "if contadorRows > 0 :\n",
    "    for objetos in objetosBucket:\n",
    "  ###########################################################\n",
    "        #Verificando se já existe objeto gravado com o mesma data+nome\n",
    "        if objetos != novoArquivo:\n",
    " ##############################################################\n",
    "            #Criando a conexão com o S3\n",
    "            s3 = boto3.client('s3', aws_access_key_id=aws_access_key_id,\n",
    "                                    aws_secret_access_key = API_secret_access_Key)\n",
    "            #Gravando o arquivo no S3\n",
    "            csv_buf = StringIO()\n",
    "            df_tw.to_csv(csv_buf, header=True , index=False)\n",
    "            csv_buf.seek(0)\n",
    "            s3.put_object(Bucket='twitter-datalake-raw', Body=csv_buf.getvalue(), Key='File-'+dataFile+'.csv')\n",
    "            print(\"O arquivo >\" + novoArquivo +\"< foi gravado com sucesso no S3\")\n",
    "            break\n",
    "            \n",
    "        else:\n",
    "            print(\"O arquivo >\" + novoArquivo +\"< já foi gravado no S3\")\n",
    "else:\n",
    "    print(\"Nenhum registro disponivel para gravação no S3\")"
   ]
  },
  {
   "cell_type": "code",
   "execution_count": 159,
   "id": "672ed844",
   "metadata": {
    "ExecuteTime": {
     "end_time": "2022-06-14T13:43:01.033329Z",
     "start_time": "2022-06-14T13:43:00.999721Z"
    }
   },
   "outputs": [
    {
     "name": "stdout",
     "output_type": "stream",
     "text": [
      "### Processamento finalizado: 2022/06/14 as 10:43:01 ###\n"
     ]
    }
   ],
   "source": [
    "# Fim do processamento\n",
    "#Horario de processamento\n",
    "\n",
    "data_now = datetime.now()\n",
    "data = data_now.strftime(\"%Y/%m/%d\")\n",
    "hora = data_now.strftime(\"%H:%M:%S\")\n",
    "print('### Processamento finalizado: '+data+' as '+hora+' ###')"
   ]
  },
  {
   "cell_type": "code",
   "execution_count": 154,
   "id": "20ce93ca",
   "metadata": {
    "ExecuteTime": {
     "end_time": "2022-06-14T13:36:48.863574Z",
     "start_time": "2022-06-14T13:36:48.847838Z"
    }
   },
   "outputs": [],
   "source": [
    "novoArquivo = 'File-'+dataFile+'.csv'\n"
   ]
  },
  {
   "cell_type": "code",
   "execution_count": 155,
   "id": "4b2c2ccb",
   "metadata": {
    "ExecuteTime": {
     "end_time": "2022-06-14T13:36:52.782483Z",
     "start_time": "2022-06-14T13:36:52.743387Z"
    }
   },
   "outputs": [
    {
     "data": {
      "text/plain": [
       "'File-2022-06-14.csv'"
      ]
     },
     "execution_count": 155,
     "metadata": {},
     "output_type": "execute_result"
    }
   ],
   "source": [
    "novoArquivo"
   ]
  },
  {
   "cell_type": "code",
   "execution_count": 157,
   "id": "75b3f222",
   "metadata": {
    "ExecuteTime": {
     "end_time": "2022-06-14T13:42:25.078258Z",
     "start_time": "2022-06-14T13:42:25.044084Z"
    }
   },
   "outputs": [
    {
     "name": "stdout",
     "output_type": "stream",
     "text": [
      "File-2022-06-12.csv\n",
      "File-2022-06-14.csv\n"
     ]
    }
   ],
   "source": [
    "for objetos in objetosBucket:\n",
    "        print(objetos)"
   ]
  },
  {
   "cell_type": "code",
   "execution_count": null,
   "id": "8e9ac5ed",
   "metadata": {},
   "outputs": [],
   "source": []
  }
 ],
 "metadata": {
  "hide_input": false,
  "kernelspec": {
   "display_name": "Python 3 (ipykernel)",
   "language": "python",
   "name": "python3"
  },
  "language_info": {
   "codemirror_mode": {
    "name": "ipython",
    "version": 3
   },
   "file_extension": ".py",
   "mimetype": "text/x-python",
   "name": "python",
   "nbconvert_exporter": "python",
   "pygments_lexer": "ipython3",
   "version": "3.9.7"
  }
 },
 "nbformat": 4,
 "nbformat_minor": 5
}
