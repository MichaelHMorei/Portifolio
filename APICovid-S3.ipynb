{
 "cells": [
  {
   "cell_type": "markdown",
   "id": "71d40ebb",
   "metadata": {},
   "source": [
    "# Pipeline ultilizando uma API Publica + S3 + Lambda + Glue + SNS\n",
    "    \n",
    "   * Este pipeline foi desenvolvido com o objetivo de coletar dados de uma API public para monitoramento dos casos de COVID.\n",
    "       * API : https://covid19-brazil-api.now.sh/api/report/v1\n",
    "    * Os dados são coletados e enviados para um bucket S3 para tratamento usando o Glue.
    "    *Etapas:\n",
    "       * Ingestão dos dados: Python\n",
    "       * Armazenamento dos dados: AWS S3\n",
    "       * Startup do ETL automático : Função AWS Lambda\n",
    "       * Processo de ETL : AWS Glue\n",
    "       * Notificação de falha : AWS SNS\n",
    "   * Resumo:\n",
    "       * Basicamente os dados serão ingeridos usando uma API Public + Python posteriormente este dados serão enviados para o            armazenamento na AWS S3 (bucket raw).\n",
    "       * Após o arquivo ser ingerido no bucket uma função AWS Lambda é invocada para que seja iniciado o processo de ETL usando          o AWS Glue.\n",
    "       * Um tópico AWS SNS foi criado para notificações de falha no processamento do ETL."
   ]
  },
  {
   "cell_type": "code",
   "execution_count": 54,
   "id": "6a23214c",
   "metadata": {
    "ExecuteTime": {
     "end_time": "2022-06-18T12:07:07.121544Z",
     "start_time": "2022-06-18T12:07:07.088681Z"
    }
   },
   "outputs": [],
   "source": [
    "# Importação da biblioteca usadas no projeto\n",
    "\n",
    "import boto3\n",
    "import boto\n",
    "import boto.s3.connection\n",
    "import pandas as pd\n",
    "from datetime import datetime\n",
    "import json\n",
    "import requests\n",
    "from io import StringIO"
   ]
  },
  {
   "cell_type": "markdown",
   "id": "5f86a593",
   "metadata": {},
   "source": [
    "# Iniciando o processamento dos dados"
   ]
  },
  {
   "cell_type": "code",
   "execution_count": 3,
   "id": "a9e2a33e",
   "metadata": {
    "ExecuteTime": {
     "end_time": "2022-06-18T09:50:04.310999Z",
     "start_time": "2022-06-18T09:50:04.272178Z"
    }
   },
   "outputs": [
    {
     "name": "stdout",
     "output_type": "stream",
     "text": [
      "### Processamento iniciado: 2022/06/18 as 06:50:04 ###\n"
     ]
    }
   ],
   "source": [
    "#Horario de processamento\n",
    "\n",
    "data_now = datetime.now()\n",
    "data = data_now.strftime(\"%Y/%m/%d\")\n",
    "hora = data_now.strftime(\"%H:%M:%S\")\n",
    "print('### Processamento iniciado: '+data+' as '+hora+' ###')"
   ]
  },
  {
   "cell_type": "code",
   "execution_count": 4,
   "id": "8b90b110",
   "metadata": {
    "ExecuteTime": {
     "end_time": "2022-06-18T09:50:05.782868Z",
     "start_time": "2022-06-18T09:50:04.329564Z"
    }
   },
   "outputs": [
    {
     "name": "stdout",
     "output_type": "stream",
     "text": [
      "Qty de registros:  (27, 8)\n"
     ]
    }
   ],
   "source": [
    "#Recebendo dados da API\n",
    "\n",
    "url = 'https://covid19-brazil-api.now.sh/api/report/v1'\n",
    "response = requests.request(\"GET\",url)\n",
    "covid_csv = pd.DataFrame(response.json()['data'])\n",
    "print(\"Qty de registros: \",covid_csv.shape)\n",
    "\n",
    "#Salvando arquivo CSV\n",
    "covid_csv.to_csv(\"covid_csv\")"
   ]
  },
  {
   "cell_type": "markdown",
   "id": "686db20f",
   "metadata": {},
   "source": [
    "# Autenticação S3"
   ]
  },
  {
   "cell_type": "code",
   "execution_count": 5,
   "id": "2276c2e0",
   "metadata": {
    "ExecuteTime": {
     "end_time": "2022-06-18T09:50:05.844170Z",
     "start_time": "2022-06-18T09:50:05.808156Z"
    }
   },
   "outputs": [],
   "source": [
    "#Lendo as chaves de acesso de um arquivo txt\n",
    "with open(\"Keys-s3.txt\",'r') as linhas:\n",
    "    aws_access_key_id= linhas.readline().strip('\\n')\n",
    "    API_secret_access_Key= linhas.readline().strip('\\n')"
   ]
  },
  {
   "cell_type": "code",
   "execution_count": 42,
   "id": "3ab0b29e",
   "metadata": {
    "ExecuteTime": {
     "end_time": "2022-06-18T10:02:07.909243Z",
     "start_time": "2022-06-18T10:02:07.878202Z"
    }
   },
   "outputs": [],
   "source": [
    "# Criando conexão com o S3\n",
    "conn = boto.connect_s3( aws_access_key_id,API_secret_access_Key)"
   ]
  },
  {
   "cell_type": "markdown",
   "id": "bfab7be1",
   "metadata": {},
   "source": [
    "# Listando os buckets S3"
   ]
  },
  {
   "cell_type": "code",
   "execution_count": 44,
   "id": "3f161dc4",
   "metadata": {
    "ExecuteTime": {
     "end_time": "2022-06-18T10:02:38.255288Z",
     "start_time": "2022-06-18T10:02:38.231547Z"
    }
   },
   "outputs": [],
   "source": [
    "# Listando os Bucket do S3\n",
    "#for bucket in conn.get_all_buckets():\n",
    "   # print(\"{name}\\t{created}\".format(name = bucket.name,\n",
    "   # created = bucket.creation_date,))"
   ]
  },
  {
   "cell_type": "markdown",
   "id": "d5f200e7",
   "metadata": {},
   "source": [
    "# Criando novo bucket S3"
   ]
  },
  {
   "cell_type": "code",
   "execution_count": 8,
   "id": "129564df",
   "metadata": {
    "ExecuteTime": {
     "end_time": "2022-06-18T09:50:07.623451Z",
     "start_time": "2022-06-18T09:50:06.795128Z"
    }
   },
   "outputs": [],
   "source": [
    "# Criando bucket no s3\n",
    "#bucket1 = conn.create_bucket('datalake-backet-covid-raw')"
   ]
  },
  {
   "cell_type": "markdown",
   "id": "39d96a55",
   "metadata": {},
   "source": [
    "# Deletando bucket S3"
   ]
  },
  {
   "cell_type": "code",
   "execution_count": 46,
   "id": "7024bb7d",
   "metadata": {
    "ExecuteTime": {
     "end_time": "2022-06-18T10:13:27.063932Z",
     "start_time": "2022-06-18T10:13:27.041568Z"
    }
   },
   "outputs": [],
   "source": [
    "#Deletando objeto no bucket\n",
    "#bucket1 = conn.get_bucket('datalake-backet-covid-raw')\n",
    "#bucket1.delete_key('datalake-backet-covid-raw')"
   ]
  },
  {
   "cell_type": "markdown",
   "id": "87a39a3a",
   "metadata": {},
   "source": [
    "# Gravando o arquivo os dados no S3"
   ]
  },
  {
   "cell_type": "code",
   "execution_count": 39,
   "id": "bf20659a",
   "metadata": {
    "ExecuteTime": {
     "end_time": "2022-06-18T10:00:31.273724Z",
     "start_time": "2022-06-18T10:00:31.238815Z"
    }
   },
   "outputs": [],
   "source": [
    "#Lendo os os objetos do bucket\n",
    "def readbuckets3(aws_access_key_id,API_secret_access_Key):\n",
    "    #Criando sessão no S3\n",
    "    session = boto3.Session( \n",
    "             aws_access_key_id=aws_access_key_id, \n",
    "             aws_secret_access_key=API_secret_access_Key)\n",
    "\n",
    "    #Usando a sessão criada para ler os objetos no bucket\n",
    "    s3 = session.resource('s3')\n",
    "\n",
    "    #Nome do bucket que vai ser verificado os objetos\n",
    "    my_bucket = s3.Bucket('datalake-backet-covid-raw')\n",
    "\n",
    "    #Listando os objetos e passando para a lista = objetosBucket\n",
    "    objetosBucket = []\n",
    "    for my_bucket_object in my_bucket.objects.all():\n",
    "        objetosBucket.append(my_bucket_object.key)\n",
    "        #print(\"Objetos no bucket :\" ,my_bucket_object.key)\n",
    "        \n",
    "    return objetosBucket\n",
    "    "
   ]
  },
  {
   "cell_type": "code",
   "execution_count": 53,
   "id": "e817ccf9",
   "metadata": {
    "ExecuteTime": {
     "end_time": "2022-06-18T11:46:22.648739Z",
     "start_time": "2022-06-18T11:46:18.495912Z"
    }
   },
   "outputs": [
    {
     "name": "stdout",
     "output_type": "stream",
     "text": [
      "O arquivo >File-2022-06-18.csv< foi gravado com sucesso no S3\n"
     ]
    }
   ],
   "source": [
    "#Gravando arquivo no S3\n",
    "\n",
    "#Leando arquivo CSV salvo.\n",
    "#s3_covid_csv = pd.read_csv(\"covid_csv\")\n",
    "\n",
    "contador = False\n",
    "\n",
    "#Contando numero de linhas\n",
    "contadorRows = covid_csv['uid'].count()\n",
    "\n",
    "#Obtendo a data Atual\n",
    "dataFile = datetime.today().strftime('%Y-%m-%d')\n",
    "\n",
    "#Definindo o nome do novo arquivo\n",
    "novoArquivo = 'File-'+dataFile+'.csv'\n",
    "\n",
    "#Instanciando a função\n",
    "objetosBucket = readbuckets3(aws_access_key_id,API_secret_access_Key)\n",
    "\n",
    "if contadorRows > 0 :          \n",
    "            \n",
    "    #Verificando se já existe objeto gravado com o mesma data+nome\n",
    "    for objetos in objetosBucket:\n",
    "        if objetos == novoArquivo:\n",
    "            contador = True\n",
    "        else:\n",
    "             contador = False \n",
    "\n",
    "    if contador == False:  \n",
    "        #Criando a conexão com o S3\n",
    "            s3 = boto3.client('s3', aws_access_key_id=aws_access_key_id,\n",
    "                                    aws_secret_access_key = API_secret_access_Key)\n",
    "        #Gravando o arquivo no S3\n",
    "            csv_buf = StringIO()\n",
    "            covid_csv.to_csv(csv_buf, header=True , index=False)\n",
    "            csv_buf.seek(0)\n",
    "            s3.put_object(Bucket='datalake-backet-covid-raw', Body=csv_buf.getvalue(),Key='File-'+dataFile+'.csv')\n",
    "            print(\"O arquivo >\" + novoArquivo +\"< foi gravado com sucesso no S3\")\n",
    "\n",
    "            #StringIO.getvalue(): Esta função retorna todo o conteúdo do arquivo.\n",
    "            #file.seek(0): Inicializa o cursor na posição 0.\n",
    "            #StringIO(): O módulo StringIO é um objeto semelhante a um arquivo na memória.\n",
    "\n",
    "    else:\n",
    "            print(\"O arquivo >\" + novoArquivo +\"< já foi gravado no S3\")\n",
    "else:\n",
    "    print(\"Nenhum registro disponivel para gravação no S3\")\n",
    "                      "
   ]
  },
  {
   "cell_type": "code",
   "execution_count": 45,
   "id": "df2eb7b9",
   "metadata": {
    "ExecuteTime": {
     "end_time": "2022-06-18T10:09:57.751271Z",
     "start_time": "2022-06-18T10:09:57.707351Z"
    }
   },
   "outputs": [
    {
     "name": "stdout",
     "output_type": "stream",
     "text": [
      "### Processamento finalizado: 2022/06/18 as 07:09:57 ###\n"
     ]
    }
   ],
   "source": [
    "# Fim do processamento\n",
    "\n",
    "#Horario de processamento\n",
    "\n",
    "data_now = datetime.now()\n",
    "data = data_now.strftime(\"%Y/%m/%d\")\n",
    "hora = data_now.strftime(\"%H:%M:%S\")\n",
    "print('### Processamento finalizado: '+data+' as '+hora+' ###')"
   ]
  }
 ],
 "metadata": {
  "hide_input": false,
  "kernelspec": {
   "display_name": "Python 3 (ipykernel)",
   "language": "python",
   "name": "python3"
  },
  "language_info": {
   "codemirror_mode": {
    "name": "ipython",
    "version": 3
   },
   "file_extension": ".py",
   "mimetype": "text/x-python",
   "name": "python",
   "nbconvert_exporter": "python",
   "pygments_lexer": "ipython3",
   "version": "3.9.7"
  }
 },
 "nbformat": 4,
 "nbformat_minor": 5
}
